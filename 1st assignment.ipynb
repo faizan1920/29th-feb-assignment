{
 "cells": [
  {
   "cell_type": "code",
   "execution_count": 1,
   "id": "0fcca849-d286-40fe-b0cb-b17a699a996a",
   "metadata": {},
   "outputs": [],
   "source": [
    "answer1 = 'Guido van Rossum'"
   ]
  },
  {
   "cell_type": "code",
   "execution_count": 2,
   "id": "a0188ab5-a384-46b3-82cc-dacf19b146bb",
   "metadata": {},
   "outputs": [
    {
     "data": {
      "text/plain": [
       "'Guido van Rossum'"
      ]
     },
     "execution_count": 2,
     "metadata": {},
     "output_type": "execute_result"
    }
   ],
   "source": [
    "answer1"
   ]
  },
  {
   "cell_type": "code",
   "execution_count": 3,
   "id": "595a5401-6c98-493d-9277-de0a6b45b8a4",
   "metadata": {},
   "outputs": [],
   "source": [
    "answer2 = 'imperative, functional, procedural & object-oriented'"
   ]
  },
  {
   "cell_type": "code",
   "execution_count": 4,
   "id": "b664a9d8-95e8-4ed2-b518-505ed946a209",
   "metadata": {},
   "outputs": [
    {
     "data": {
      "text/plain": [
       "'imperative, functional, procedural & object-oriented'"
      ]
     },
     "execution_count": 4,
     "metadata": {},
     "output_type": "execute_result"
    }
   ],
   "source": [
    "answer2"
   ]
  },
  {
   "cell_type": "code",
   "execution_count": 5,
   "id": "b4340ab8-0fc7-4417-97a3-cab119d9b310",
   "metadata": {},
   "outputs": [],
   "source": [
    "answer3 = 'YES, phyton is a case-sensitive language'"
   ]
  },
  {
   "cell_type": "code",
   "execution_count": 6,
   "id": "b198d3b8-e419-4f03-9f1a-01eee8a0d290",
   "metadata": {},
   "outputs": [
    {
     "data": {
      "text/plain": [
       "'YES, phyton is a case-sensitive language'"
      ]
     },
     "execution_count": 6,
     "metadata": {},
     "output_type": "execute_result"
    }
   ],
   "source": [
    "answer3"
   ]
  },
  {
   "cell_type": "code",
   "execution_count": 7,
   "id": "82a43734-6d85-46da-8db1-e261195cb003",
   "metadata": {},
   "outputs": [],
   "source": [
    "answer4 = '\".py\"'"
   ]
  },
  {
   "cell_type": "code",
   "execution_count": 8,
   "id": "422fb766-fcfa-45ab-8aa9-75257355d8f6",
   "metadata": {},
   "outputs": [
    {
     "data": {
      "text/plain": [
       "'\".py\"'"
      ]
     },
     "execution_count": 8,
     "metadata": {},
     "output_type": "execute_result"
    }
   ],
   "source": [
    "answer4"
   ]
  },
  {
   "cell_type": "code",
   "execution_count": 9,
   "id": "c834ed72-925a-4623-913b-e8eb67673a4e",
   "metadata": {},
   "outputs": [],
   "source": [
    "answer5 = 'a module, a function body, a class definition'"
   ]
  },
  {
   "cell_type": "code",
   "execution_count": 10,
   "id": "4176ec92-7223-4407-ad08-fff13f0d998e",
   "metadata": {},
   "outputs": [
    {
     "data": {
      "text/plain": [
       "'a module, a function body, a class definition'"
      ]
     },
     "execution_count": 10,
     "metadata": {},
     "output_type": "execute_result"
    }
   ],
   "source": [
    "answer5"
   ]
  },
  {
   "cell_type": "code",
   "execution_count": 11,
   "id": "d344e187-52c2-41a5-b73b-4095f92825fa",
   "metadata": {},
   "outputs": [],
   "source": [
    "answer6 = 'a module, a function body, and class definition'"
   ]
  },
  {
   "cell_type": "code",
   "execution_count": 13,
   "id": "9da624fa-b05e-4f5e-b4b3-7331cc2ba14d",
   "metadata": {},
   "outputs": [
    {
     "data": {
      "text/plain": [
       "'a module, a function body, and class definition'"
      ]
     },
     "execution_count": 13,
     "metadata": {},
     "output_type": "execute_result"
    }
   ],
   "source": [
    "answer6"
   ]
  },
  {
   "cell_type": "code",
   "execution_count": 14,
   "id": "23c746dc-5642-4943-88ba-d6250e2e8257",
   "metadata": {},
   "outputs": [],
   "source": [
    "answer7 = 'The symbol \"#\" is used to give any kind of comment.'"
   ]
  },
  {
   "cell_type": "code",
   "execution_count": 15,
   "id": "f543b03c-9c5c-4e57-ad31-d087720cfea4",
   "metadata": {},
   "outputs": [
    {
     "data": {
      "text/plain": [
       "'The symbol \"#\" is used to give any kind of comment.'"
      ]
     },
     "execution_count": 15,
     "metadata": {},
     "output_type": "execute_result"
    }
   ],
   "source": [
    "answer7"
   ]
  },
  {
   "cell_type": "code",
   "execution_count": 16,
   "id": "2fad60ba-77f9-41c5-93f4-ac9d751db08b",
   "metadata": {},
   "outputs": [],
   "source": [
    "answer8 = 'sys.version funtion is used to check what version of phyton'"
   ]
  },
  {
   "cell_type": "code",
   "execution_count": 17,
   "id": "0cc401db-945d-41c5-9221-a3da83c7146c",
   "metadata": {},
   "outputs": [
    {
     "data": {
      "text/plain": [
       "'sys.version funtion is used to check what version of phyton'"
      ]
     },
     "execution_count": 17,
     "metadata": {},
     "output_type": "execute_result"
    }
   ],
   "source": [
    "answer8"
   ]
  },
  {
   "cell_type": "code",
   "execution_count": 18,
   "id": "f3f11d7a-c28e-4716-9eda-a590a6e8d823",
   "metadata": {},
   "outputs": [],
   "source": [
    "answer9 = 'It is used a construct function called the lumbda'"
   ]
  },
  {
   "cell_type": "code",
   "execution_count": 19,
   "id": "95d0429e-fa65-4ec3-8b54-c38622adc6c9",
   "metadata": {},
   "outputs": [
    {
     "data": {
      "text/plain": [
       "'It is used a construct function called the lumbda'"
      ]
     },
     "execution_count": 19,
     "metadata": {},
     "output_type": "execute_result"
    }
   ],
   "source": [
    "answer9"
   ]
  },
  {
   "cell_type": "code",
   "execution_count": 20,
   "id": "f6ea30fc-03df-448a-83d9-2c0a8cfdeac9",
   "metadata": {},
   "outputs": [],
   "source": [
    "answer10 = 'PREFERRED INSTALLER PROGRAM'"
   ]
  },
  {
   "cell_type": "code",
   "execution_count": 21,
   "id": "34d7a30d-a875-46f7-afad-6ae25fb0c343",
   "metadata": {},
   "outputs": [
    {
     "data": {
      "text/plain": [
       "'PREFERRED INSTALLER PROGRAM'"
      ]
     },
     "execution_count": 21,
     "metadata": {},
     "output_type": "execute_result"
    }
   ],
   "source": [
    "answer10"
   ]
  },
  {
   "cell_type": "code",
   "execution_count": 22,
   "id": "ecaf1a2b-3824-4147-b45f-f519400f2e6d",
   "metadata": {},
   "outputs": [],
   "source": [
    "a = 'f'\n",
    "b = 'a'\n",
    "c = 'i'\n",
    "d = 'z'\n",
    "e = 'u' \n",
    "f = 'd'\n",
    "g = 'd'\n",
    "h = 'i'\n",
    "i = 'n'\n",
    "answer11 = [a+b+c+d+e+f+g+h+i]"
   ]
  },
  {
   "cell_type": "code",
   "execution_count": 23,
   "id": "7b0889cf-3884-41a6-b158-0d787dde1610",
   "metadata": {},
   "outputs": [
    {
     "data": {
      "text/plain": [
       "['faizuddin']"
      ]
     },
     "execution_count": 23,
     "metadata": {},
     "output_type": "execute_result"
    }
   ],
   "source": [
    "answer11"
   ]
  },
  {
   "cell_type": "code",
   "execution_count": 24,
   "id": "7ece1203-45c2-4aa6-a4ca-35269160c012",
   "metadata": {},
   "outputs": [],
   "source": [
    "answer12 = 'The maximum possible length is only 79 characters.'"
   ]
  },
  {
   "cell_type": "code",
   "execution_count": 25,
   "id": "6de9765d-0f16-47d2-baa2-66eec429a298",
   "metadata": {},
   "outputs": [
    {
     "data": {
      "text/plain": [
       "'The maximum possible length is only 79 characters.'"
      ]
     },
     "execution_count": 25,
     "metadata": {},
     "output_type": "execute_result"
    }
   ],
   "source": [
    "answer12"
   ]
  },
  {
   "cell_type": "code",
   "execution_count": 26,
   "id": "9f4c443e-f97f-4aa9-a2bc-d4806007e985",
   "metadata": {},
   "outputs": [],
   "source": [
    "answer13 = '''Simple to use, \n",
    "Easily understanable to new comers, \n",
    "It is free & open source, \n",
    "supportive community.'''"
   ]
  },
  {
   "cell_type": "code",
   "execution_count": 27,
   "id": "bb79e0be-698c-4357-aaa2-267a2f397821",
   "metadata": {},
   "outputs": [
    {
     "data": {
      "text/plain": [
       "'Simple to use, \\nEasily understanable to new comers, \\nIt is free & open source, \\nsupportive community.'"
      ]
     },
     "execution_count": 27,
     "metadata": {},
     "output_type": "execute_result"
    }
   ],
   "source": [
    "answer13"
   ]
  },
  {
   "cell_type": "code",
   "execution_count": 28,
   "id": "0692b072-dd5d-47c8-a110-3eeabb546654",
   "metadata": {},
   "outputs": [],
   "source": [
    "answer14 = 'memory is managed in python by involving a private heap containing all python objects and data structures. '"
   ]
  },
  {
   "cell_type": "code",
   "execution_count": 29,
   "id": "d7737029-0da7-4524-9e49-b9675bddf828",
   "metadata": {},
   "outputs": [
    {
     "data": {
      "text/plain": [
       "'memory is managed in python by involving a private heap containing all python objects and data structures. '"
      ]
     },
     "execution_count": 29,
     "metadata": {},
     "output_type": "execute_result"
    }
   ],
   "source": [
    "answer14"
   ]
  },
  {
   "cell_type": "code",
   "execution_count": 30,
   "id": "a6f871ec-eea5-4cc8-b386-3e5308f17261",
   "metadata": {},
   "outputs": [],
   "source": [
    "answer15 = '''Right-clicking This PC and going to Properties,\n",
    "Clicking on the Advanced system settings in the menu on the left,\n",
    "Clicking on the Environment Variables button on the bottom right,\n",
    "In the System variables section, selecting the Path variable and clicking on Edit, \n",
    "The next screen will show all the directories that are currently a part of the PATH variable,\n",
    "Clicking on New and entering Python’s install directory.'''"
   ]
  },
  {
   "cell_type": "code",
   "execution_count": 31,
   "id": "a93e5d15-cfae-4705-b7f7-8c4616d70c11",
   "metadata": {},
   "outputs": [
    {
     "data": {
      "text/plain": [
       "'Right-clicking This PC and going to Properties,\\nClicking on the Advanced system settings in the menu on the left,\\nClicking on the Environment Variables button on the bottom right,\\nIn the System variables section, selecting the Path variable and clicking on Edit, \\nThe next screen will show all the directories that are currently a part of the PATH variable,\\nClicking on New and entering Python’s install directory.'"
      ]
     },
     "execution_count": 31,
     "metadata": {},
     "output_type": "execute_result"
    }
   ],
   "source": [
    "answer15"
   ]
  },
  {
   "cell_type": "code",
   "execution_count": 32,
   "id": "fad2d3d2-5d3c-4b5a-8a95-93f3be98afe9",
   "metadata": {},
   "outputs": [],
   "source": [
    "answer16 = 'YES, it is mandatory in python becouse of defining a block statement.'"
   ]
  },
  {
   "cell_type": "code",
   "execution_count": 33,
   "id": "d9e8e392-052b-43ec-b3a3-41489c9dda00",
   "metadata": {},
   "outputs": [
    {
     "data": {
      "text/plain": [
       "'YES, it is mandatory in python becouse of defining a block statement.'"
      ]
     },
     "execution_count": 33,
     "metadata": {},
     "output_type": "execute_result"
    }
   ],
   "source": [
    "answer16"
   ]
  },
  {
   "cell_type": "code",
   "execution_count": null,
   "id": "a2d09a16-1ce8-47a6-ba93-1d28ac5505f7",
   "metadata": {},
   "outputs": [],
   "source": []
  }
 ],
 "metadata": {
  "kernelspec": {
   "display_name": "Python 3 (ipykernel)",
   "language": "python",
   "name": "python3"
  },
  "language_info": {
   "codemirror_mode": {
    "name": "ipython",
    "version": 3
   },
   "file_extension": ".py",
   "mimetype": "text/x-python",
   "name": "python",
   "nbconvert_exporter": "python",
   "pygments_lexer": "ipython3",
   "version": "3.10.8"
  }
 },
 "nbformat": 4,
 "nbformat_minor": 5
}
